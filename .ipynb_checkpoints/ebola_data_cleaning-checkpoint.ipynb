{
 "metadata": {
  "name": "",
  "signature": "sha256:e36e8d4fdc2f8713e72ff853320c4d8dae74a5fb713bd295a8e72c09277d5143"
 },
 "nbformat": 3,
 "nbformat_minor": 0,
 "worksheets": [
  {
   "cells": [
    {
     "cell_type": "code",
     "collapsed": false,
     "input": [
      "import pandas as pd\n",
      "import numpy as np"
     ],
     "language": "python",
     "metadata": {},
     "outputs": [],
     "prompt_number": 107
    },
    {
     "cell_type": "code",
     "collapsed": false,
     "input": [
      "#Read datasets into pandas dataframes for manipulation\n",
      "ebola  = pd.read_csv('data/data-ebola-public.csv')                    #Read in ebola case data"
     ],
     "language": "python",
     "metadata": {},
     "outputs": [],
     "prompt_number": 108
    },
    {
     "cell_type": "markdown",
     "metadata": {},
     "source": [
      "#Ebola Data Cleanup Tasks#\n",
      "Note: I manuall remove Link, Localite and Missing rows in this dataset using excel.  \n",
      "*1. Pivot across Categories *  \n",
      "The ebola data currently has a single column called category which contains the following types of Ebolas cases:\n",
      "- Cases\n",
      "- Deaths\n",
      "- Suspected Cases\n",
      "- Confirmed Cases\n",
      "- Probable Cases\n",
      "\n",
      "We want to pivot the row values into distinct columns. That is we want to create 5 new columns for each of category types"
     ]
    },
    {
     "cell_type": "code",
     "collapsed": false,
     "input": [
      "#1. Pivot across these category types\n",
      "ebola_pivot = ebola.pivot_table('Value', ['Country','Date','Sources'], 'Category', aggfunc = np.sum)\n",
      "ebola = ebola_pivot.reset_index()   #Reset DF index\n",
      "ebola = ebola.dropna()              #Drop rows with NAN values\n"
     ],
     "language": "python",
     "metadata": {},
     "outputs": [],
     "prompt_number": 109
    },
    {
     "cell_type": "code",
     "collapsed": false,
     "input": [
      "#Check columns\n",
      "print ebola.columns\n",
      "print ebola.Date.unique()"
     ],
     "language": "python",
     "metadata": {},
     "outputs": [
      {
       "output_type": "stream",
       "stream": "stdout",
       "text": [
        "Index([u'Country', u'Date', u'Sources', u'Cases', u'Confirmed cases', u'Deaths', u'New cases', u'Probable cases', u'Suspected cases'], dtype='object')\n",
        "['10/1/14' '10/10/14' '10/11/14' '10/12/14' '10/13/14' '10/14/14'\n",
        " '10/15/14' '10/16/14' '10/17/14' '10/18/14' '10/19/14' '10/20/14'\n",
        " '10/21/14' '10/22/14' '10/23/14' '10/24/14' '10/25/14' '10/26/14'\n",
        " '10/27/14' '10/28/14' '10/29/14' '10/30/14' '10/31/14' '10/7/14' '10/8/14'\n",
        " '10/9/14' '11/1/14' '11/10/14' '11/11/14' '11/12/14' '11/13/14' '11/14/14'\n",
        " '11/15/14' '11/17/14' '11/18/14' '11/19/14' '11/2/14' '11/20/14'\n",
        " '11/21/14' '11/22/14' '11/3/14' '11/4/14' '11/5/14' '11/6/14' '11/7/14'\n",
        " '11/8/14' '11/9/14' '9/1/14' '9/10/14' '9/11/14' '9/12/14' '9/13/14'\n",
        " '9/14/14' '9/16/14' '9/17/14' '9/19/14' '9/2/14' '9/20/14' '9/21/14'\n",
        " '9/22/14' '9/23/14' '9/25/14' '9/28/14' '9/29/14' '9/3/14' '9/30/14'\n",
        " '9/4/14' '9/5/14' '9/6/14' '9/7/14' '9/9/14' '10/2/14' '10/3/14' '10/4/14'\n",
        " '10/5/14' '11/16/14' '9/15/14' '9/26/14' '9/27/14' '9/8/14' '11/24/14'\n",
        " '9/18/14' '9/24/14' '11/23/14']\n"
       ]
      }
     ],
     "prompt_number": 115
    },
    {
     "cell_type": "markdown",
     "metadata": {},
     "source": []
    },
    {
     "cell_type": "code",
     "collapsed": false,
     "input": [],
     "language": "python",
     "metadata": {},
     "outputs": [
      {
       "output_type": "stream",
       "stream": "stdout",
       "text": [
        "['7/9/14' '14-09-14' '21-09-14' '28-09-14' '12/10/14' '19-10-14' '27-10-14'\n",
        " '29-10-14' '2/11/14' '4/11/14' '10/11/14' '14-11-14' '16-11-14' '18-11-14'\n",
        " '23-11-14']\n",
        "   Country   Case def  Total deaths    Date\n",
        "0   Guinea  Confirmed            19  7/9/14\n",
        "1   Guinea   Probable             8  7/9/14\n",
        "2   Guinea  Suspected             0  7/9/14\n",
        "3   Guinea        All            27  7/9/14\n",
        "4  Liberia  Confirmed            54  7/9/14\n"
       ]
      }
     ],
     "prompt_number": 116
    },
    {
     "cell_type": "code",
     "collapsed": false,
     "input": [],
     "language": "python",
     "metadata": {},
     "outputs": []
    }
   ],
   "metadata": {}
  }
 ]
}